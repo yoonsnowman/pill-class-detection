{
 "cells": [
  {
   "cell_type": "code",
   "execution_count": null,
   "id": "2b0fb2a9",
   "metadata": {},
   "outputs": [],
   "source": []
  }
 ],
 "metadata": {
  "kernelspec": {
   "display_name": "superdogenv",
   "language": "python",
   "name": "python3"
  },
  "language_info": {
   "name": "python",
   "version": "3.11.12"
  }
 },
 "nbformat": 4,
 "nbformat_minor": 5
}
